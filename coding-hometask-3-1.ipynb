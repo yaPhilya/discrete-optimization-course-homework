{
 "cells": [
  {
   "cell_type": "markdown",
   "metadata": {
    "deletable": true,
    "editable": true
   },
   "source": [
    "# Задание по курсу «Дискретная оптимизация», МФТИ, весна 2017"
   ]
  },
  {
   "cell_type": "markdown",
   "metadata": {
    "collapsed": true,
    "deletable": true,
    "editable": true
   },
   "source": [
    "## Задача 3-1. Задача TSP: инкрементальные алгоритмы.\n",
    "\n",
    "В этой задаче Вам предлагается сравнить алгоритмы Nearest Neighbour и Nearest Insertion в задаче Euclidean TSP.\n",
    "\n",
    "**Даны:**\n",
    "* Координаты точек плоскости, являющихся вершинами графа.\n",
    "\n",
    "**Найти:**\n",
    "* Перестановку вершин, задающих минимальный по длине гамильтонов цикл в графе.\n",
    "\n",
    "Сделайте следующее:\n",
    "* Скачайте файл [`tsp-instances.zip`](https://github.com/dainiak/discrete-optimization-course/raw/master/tsp-instances.zip) и разархивируйте из него файлы со входами задачи TSP.\n",
    "* Реализуйте функции `solve_tsp_nearest_neighbour` и `solve_tsp_nearest_insertion`.\n",
    "* Запустите функцию `run_all()`, чтобы протестировать свой код и сравнить качество решений, получаемых Nearest Neighbour и Nearest Insertion. Сильно ли они отличаются? Запишите свои качественные выводы в 1-2 предложениях в последней ячейке ipynb-файла."
   ]
  },
  {
   "cell_type": "code",
   "execution_count": 1,
   "metadata": {
    "collapsed": true,
    "deletable": true,
    "editable": true
   },
   "outputs": [],
   "source": [
    "def read_tsp_instance(filename):\n",
    "    with open(filename, 'r') as file:\n",
    "        coordinates = []\n",
    "        for line in file:\n",
    "            line = line.strip().lower()\n",
    "            if line.startswith('dimension'):\n",
    "                coordinates = [(0,0)] * int(line.split()[-1])\n",
    "            tokens = line.split()\n",
    "            if len(tokens) == 3 and tokens[0].isdecimal():\n",
    "                tokens = line.split()\n",
    "                coordinates[int(tokens[0])-1] = tuple(map(float, tokens[1:]))\n",
    "        return coordinates\n",
    "\n",
    "from math import sqrt\n",
    "\n",
    "def euclidean_distance(point1, point2):\n",
    "    return sqrt((point1[0]-point2[0]) ** 2 + (point1[1]-point2[1]) ** 2)\n",
    "    \n",
    "def calculate_tour_length(instance, permutation):\n",
    "    n = len(permutation)\n",
    "    return sum(euclidean_distance(instance[permutation[i]], instance[permutation[(i+1) % n]]) for i in range(len(permutation)))"
   ]
  },
  {
   "cell_type": "code",
   "execution_count": 2,
   "metadata": {
    "collapsed": true
   },
   "outputs": [],
   "source": [
    "import numpy as np"
   ]
  },
  {
   "cell_type": "code",
   "execution_count": 33,
   "metadata": {
    "collapsed": true,
    "deletable": true,
    "editable": true
   },
   "outputs": [],
   "source": [
    "def solve_tsp_nearest_neighbour(instance):\n",
    "    n = len(instance)\n",
    "    candidates = {i for i in range(1, n)}\n",
    "    permutation = [0]\n",
    "    n = len(instance)\n",
    "    for i in range(n - 1):\n",
    "        tmp = list(candidates)\n",
    "        next_v = np.argmin([euclidean_distance(instance[permutation[i]], instance[j]) for j in tmp])\n",
    "        permutation.append(tmp[next_v])\n",
    "        candidates.remove(tmp[next_v])\n",
    "    return permutation"
   ]
  },
  {
   "cell_type": "code",
   "execution_count": 36,
   "metadata": {
    "collapsed": false,
    "deletable": true,
    "editable": true
   },
   "outputs": [],
   "source": [
    "def solve_tsp_nearest_insertion(instance):\n",
    "    n = len(instance)\n",
    "    start = min([(euclidean_distance(instance[i], instance[j]), i, j) for i in range(n) for j in range(n) if i != j])\n",
    "    permutation = [start[1], start[2]]\n",
    "    candidates = {i for i in range(n) if i != permutation[0] and i != permutation[1]}\n",
    "    for i in range(n - 2):\n",
    "        tmp = list(candidates)\n",
    "        dist = []\n",
    "        for j in tmp:\n",
    "            dist.append(np.min([euclidean_distance(instance[t], instance[j]) for t in permutation]))\n",
    "        new_v = tmp[np.argmin(dist)]\n",
    "        cur_len = len(permutation)\n",
    "        edge = np.argmin([euclidean_distance(instance[new_v], instance[permutation[j]]) + \n",
    "                          euclidean_distance(instance[new_v], instance[permutation[(j + 1) % cur_len ]]) -\n",
    "                          euclidean_distance(instance[permutation[j]], instance[permutation[(j + 1) % cur_len]])\n",
    "                          for j in range(cur_len)])\n",
    "        permutation.insert(edge + 1, new_v)\n",
    "        candidates.remove(new_v)\n",
    "    return permutation"
   ]
  },
  {
   "cell_type": "code",
   "execution_count": 31,
   "metadata": {
    "collapsed": false,
    "deletable": true,
    "editable": true
   },
   "outputs": [],
   "source": [
    "import time\n",
    "from os.path import exists\n",
    "\n",
    "def run_all():\n",
    "    instance_filenames = ['d198.tsp', 'd493.tsp', 'd657.tsp', 'd2103.tsp', 'pr107.tsp', 'pr152.tsp', 'pr439.tsp']\n",
    "    for filename in instance_filenames:\n",
    "        if not exists(filename):\n",
    "            print('File not found: “{}”. Skipping this instance.'.format(filename))\n",
    "            continue\n",
    "        instance = read_tsp_instance(filename)\n",
    "        print('Solving instance {}…'.format(filename), end='')\n",
    "        time_start = time.monotonic()\n",
    "        quality_nn = calculate_tour_length(instance, solve_tsp_nearest_neighbour(instance))\n",
    "        time_nn = time.monotonic()-time_start\n",
    "        time_start = time.monotonic()\n",
    "        quality_ni = calculate_tour_length(instance, solve_tsp_nearest_insertion(instance))\n",
    "        time_ni = time.monotonic()-time_start\n",
    "        print(' done in {:.2} seconds with tour length {} using NN and in {:.2} seconds with tour length {} using NI'.format(time_nn, int(quality_nn), time_ni, int(quality_ni)))"
   ]
  },
  {
   "cell_type": "code",
   "execution_count": 37,
   "metadata": {
    "collapsed": false,
    "deletable": true,
    "editable": true
   },
   "outputs": [
    {
     "name": "stdout",
     "output_type": "stream",
     "text": [
      "Solving instance d198.tsp… done in 0.013 seconds with tour length 18620 using NN and in 0.91 seconds with tour length 18050 using NI\n",
      "Solving instance d493.tsp… done in 0.07 seconds with tour length 43646 using NN and in 1.2e+01 seconds with tour length 42130 using NI\n",
      "Solving instance d657.tsp… done in 0.13 seconds with tour length 62176 using NN and in 2.7e+01 seconds with tour length 60081 using NI\n",
      "Solving instance d2103.tsp… done in 1.2 seconds with tour length 87468 using NN and in 8.7e+02 seconds with tour length 85771 using NI\n",
      "Solving instance pr107.tsp… done in 0.0042 seconds with tour length 46678 using NN and in 0.19 seconds with tour length 53211 using NI\n",
      "Solving instance pr152.tsp… done in 0.0076 seconds with tour length 85702 using NN and in 0.48 seconds with tour length 88661 using NI\n",
      "Solving instance pr439.tsp… done in 0.061 seconds with tour length 131282 using NN and in 1.2e+01 seconds with tour length 133705 using NI\n"
     ]
    }
   ],
   "source": [
    "run_all()"
   ]
  },
  {
   "cell_type": "markdown",
   "metadata": {
    "collapsed": true,
    "deletable": true,
    "editable": true
   },
   "source": [
    "## Выводы\n",
    "Метод ближайшей вставки не всегда дает результат лучше, чем метод ближайшего соседа. А в тех случаях когда он лучше проигрышь ближайшего соседа составляет не больше 3,5 процентов, при чем время работы NI на порядок больше."
   ]
  }
 ],
 "metadata": {
  "celltoolbar": "Raw Cell Format",
  "kernelspec": {
   "display_name": "Python 3",
   "language": "python",
   "name": "python3"
  },
  "language_info": {
   "codemirror_mode": {
    "name": "ipython",
    "version": 3
   },
   "file_extension": ".py",
   "mimetype": "text/x-python",
   "name": "python",
   "nbconvert_exporter": "python",
   "pygments_lexer": "ipython3",
   "version": "3.6.0"
  }
 },
 "nbformat": 4,
 "nbformat_minor": 2
}
