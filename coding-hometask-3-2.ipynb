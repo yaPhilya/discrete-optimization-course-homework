{
 "cells": [
  {
   "cell_type": "markdown",
   "metadata": {
    "collapsed": true
   },
   "source": [
    "## Задача 3-2. Задача TSP: нижняя оценка Гельда—Карпа.\n",
    "\n",
    "В этой задаче Вам предлагается релизовать алгоритм Гельда—Карпа для нижней оценки стоимости решения в задаче Euclidean TSP.\n",
    "\n",
    "Сделайте следующее:\n",
    "* Скачайте файл [`tsp-instances.zip`](https://github.com/dainiak/discrete-optimization-course/raw/master/tsp-instances.zip) и разархивируйте из него файлы со входами задачи TSP. Это в точности те же входные данные, что и в задании 3-1.\n",
    "* Реализуйте функцию `lower_bound_tsp`. При этом можно пользоваться каким-нибудь стандартным алгоритмом построения минимального остовного дерева из библиотеки [`networkx`](https://networkx.github.io/), входящей в состав дистрибутива Anaconda.\n",
    "* Запустите функцию `run_all()`, чтобы протестировать свой код, и напишите полученные, как следствия, верхние оценки погрешностей решений, которые были получены Вашими алгоритмами NN и NI при решении задания 3-1. Запишите свои выводы в 1-2 предложениях в последней ячейке ipynb-файла."
   ]
  },
  {
   "cell_type": "code",
   "execution_count": 1,
   "metadata": {
    "collapsed": true
   },
   "outputs": [],
   "source": [
    "from typing import List, Tuple\n",
    "from math import sqrt\n",
    "from itertools import combinations, islice\n",
    "\n",
    "\n",
    "def read_tsp_instance(filename: str) -> List[Tuple[int,int]]:\n",
    "    with open(filename, 'r') as file:\n",
    "        coordinates = []\n",
    "        for line in file:\n",
    "            line = line.strip().lower()\n",
    "            if line.startswith('dimension'):\n",
    "                coordinates = [(0, 0)] * int(line.split()[-1])\n",
    "            tokens = line.split()\n",
    "            if len(tokens) == 3 and tokens[0].isdecimal():\n",
    "                tokens = line.split()\n",
    "                coordinates[int(tokens[0])-1] = tuple(map(float, tokens[1:]))\n",
    "        return coordinates\n",
    "\n",
    "\n",
    "def euclidean_distance(point1: Tuple[int,int], point2: Tuple[int,int]) -> float:\n",
    "    return sqrt((point1[0]-point2[0]) ** 2 + (point1[1]-point2[1]) ** 2)"
   ]
  },
  {
   "cell_type": "code",
   "execution_count": 11,
   "metadata": {
    "collapsed": true
   },
   "outputs": [],
   "source": [
    "import networkx as nx\n",
    "import numpy as np"
   ]
  },
  {
   "cell_type": "code",
   "execution_count": 29,
   "metadata": {
    "collapsed": true
   },
   "outputs": [],
   "source": [
    "def solve_tsp_nearest_neighbour(instance):\n",
    "    n = len(instance)\n",
    "    candidates = {i for i in range(1, n)}\n",
    "    permutation = [0]\n",
    "    n = len(instance)\n",
    "    for i in range(n - 1):\n",
    "        tmp = list(candidates)\n",
    "        next_v = np.argmin([euclidean_distance(instance[permutation[i]], instance[j]) for j in tmp])\n",
    "        permutation.append(tmp[next_v])\n",
    "        candidates.remove(tmp[next_v])\n",
    "    return permutation"
   ]
  },
  {
   "cell_type": "code",
   "execution_count": 30,
   "metadata": {
    "collapsed": true
   },
   "outputs": [],
   "source": [
    "def calculate_tour_length(instance, permutation):\n",
    "    n = len(permutation)\n",
    "    return sum(euclidean_distance(instance[permutation[i]], instance[permutation[(i+1) % n]]) for i in range(len(permutation)))"
   ]
  },
  {
   "cell_type": "code",
   "execution_count": 31,
   "metadata": {
    "collapsed": false
   },
   "outputs": [],
   "source": [
    "def lower_bound_tsp(vertex_coordinates: List[Tuple[int,int]]) -> float:\n",
    "    # Replace this trivial lower bound with Held—Karp:\n",
    "    vertex = len(vertex_coordinates)\n",
    "    graph = nx.Graph()\n",
    "    for i in range(1, vertex):\n",
    "        for j in range(i + 1, vertex):\n",
    "            graph.add_edge(i, j, weight=euclidean_distance(vertex_coordinates[i], vertex_coordinates[j]))\n",
    "    y = np.zeros(vertex)\n",
    "    dy = np.zeros(vertex)\n",
    "    alpha = 2.0\n",
    "    beta = 0.5\n",
    "    num_iters = 20\n",
    "    U = calculate_tour_length(vertex_coordinates, solve_tsp_nearest_neighbour(vertex_coordinates))\n",
    "    weights = [euclidean_distance(vertex_coordinates[0], vertex_coordinates[i]) for i in range(1, vertex)]\n",
    "    weights.sort()\n",
    "    A = weights[0] + weights[1]\n",
    "    H = -1000000000000\n",
    "    TSMALL = 0.001\n",
    "    for iteration in range(num_iters):\n",
    "        T = nx.minimum_spanning_tree(graph)\n",
    "        degree = np.zeros(vertex)\n",
    "        H_1 = 2 * y.sum() + A + T.size(weight='weight')\n",
    "        if H_1 > H:\n",
    "            H = H_1\n",
    "        for edge in T.edges(data=True):\n",
    "            degree[edge[0]] += 1\n",
    "            degree[edge[1]] += 1\n",
    "        t_k = alpha * (U - H_1) / ((2 - degree) ** 2).sum()\n",
    "        if t_k < TSMALL:\n",
    "            break\n",
    "        dy = t_k * (2 - degree)\n",
    "        y += dy\n",
    "        \n",
    "        for edge in graph.edges(data=True):\n",
    "            edge[-1]['weight'] -= dy[edge[0]]\n",
    "            edge[-1]['weight'] -= dy[edge[1]]\n",
    "        alpha *= beta\n",
    "    return H"
   ]
  },
  {
   "cell_type": "code",
   "execution_count": 32,
   "metadata": {
    "collapsed": true
   },
   "outputs": [],
   "source": [
    "import time\n",
    "from os.path import exists\n",
    "\n",
    "def run_all():\n",
    "    instance_filenames = ['pr107.tsp', 'pr152.tsp', 'd198.tsp', 'pr439.tsp', 'd493.tsp', 'd657.tsp', 'd2103.tsp']\n",
    "    for filename in instance_filenames:\n",
    "        if not exists(filename):\n",
    "            print('File not found: “{}”. Skipping this instance.'.format(filename))\n",
    "            continue\n",
    "        instance = read_tsp_instance(filename)\n",
    "        print('Instance {}…'.format(filename), end='')\n",
    "        time_start = time.monotonic()\n",
    "        bound = lower_bound_tsp(instance)\n",
    "        time_nn = time.monotonic()-time_start\n",
    "        print(' done in {:.2} seconds with lower bound {}'.format(time_nn, int(bound)))"
   ]
  },
  {
   "cell_type": "code",
   "execution_count": 33,
   "metadata": {
    "collapsed": false
   },
   "outputs": [
    {
     "name": "stdout",
     "output_type": "stream",
     "text": [
      "Instance pr107.tsp… done in 0.43 seconds with lower bound 36923\n",
      "Instance pr152.tsp… done in 0.94 seconds with lower bound 59772\n",
      "Instance d198.tsp… done in 1.6 seconds with lower bound 12944\n",
      "Instance pr439.tsp… done in 1e+01 seconds with lower bound 92443\n",
      "Instance d493.tsp… done in 1.2e+01 seconds with lower bound 31292\n",
      "Instance d657.tsp… done in 2.4e+01 seconds with lower bound 43858\n",
      "Instance d2103.tsp… done in 3.1e+02 seconds with lower bound 77433\n"
     ]
    }
   ],
   "source": [
    "run_all()"
   ]
  },
  {
   "cell_type": "markdown",
   "metadata": {},
   "source": [
    "## Выводы\n",
    "Запишите здесь полученные результаты относительно погрешностей алгоритмов NN и NI."
   ]
  },
  {
   "cell_type": "markdown",
   "metadata": {},
   "source": [
    "Solving instance d198.tsp… done in 0.013 seconds with tour length 18620 using NN and in 0.91 seconds with tour length 18050 using NI\n",
    "Solving instance d493.tsp… done in 0.07 seconds with tour length 43646 using NN and in 1.2e+01 seconds with tour length 42130 using NI\n",
    "Solving instance d657.tsp… done in 0.13 seconds with tour length 62176 using NN and in 2.7e+01 seconds with tour length 60081 using NI\n",
    "Solving instance d2103.tsp… done in 1.2 seconds with tour length 87468 using NN and in 8.7e+02 seconds with tour length 85771 using NI\n",
    "Solving instance pr107.tsp… done in 0.0042 seconds with tour length 46678 using NN and in 0.19 seconds with tour length 53211 using NI\n",
    "Solving instance pr152.tsp… done in 0.0076 seconds with tour length 85702 using NN and in 0.48 seconds with tour length 88661 using NI\n",
    "Solving instance pr439.tsp… done in 0.061 seconds with tour length 131282 using NN and in 1.2e+01 seconds with tour length 133705 using NI"
   ]
  },
  {
   "cell_type": "code",
   "execution_count": 35,
   "metadata": {
    "collapsed": false
   },
   "outputs": [
    {
     "data": {
      "text/plain": [
       "array([ 1.43850433,  1.39479739,  1.4176661 ,  1.12959591,  1.44113425,\n",
       "        1.48331995,  1.44635072])"
      ]
     },
     "execution_count": 35,
     "metadata": {},
     "output_type": "execute_result"
    }
   ],
   "source": [
    "best_ans = np.array([18620, 43646, 62176, 87468, 53211, 88661, 133705])\n",
    "bound = np.array([12944, 31292, 43858, 77433, 36923, 59772, 92443])\n",
    "best_ans / bound"
   ]
  },
  {
   "cell_type": "markdown",
   "metadata": {},
   "source": [
    "Как видим NN и NI решают задачу не более чем в 1.5 раза хуже чем нижняя оценка. Значит они решают достаточно хорошо."
   ]
  }
 ],
 "metadata": {
  "kernelspec": {
   "display_name": "Python 3",
   "language": "python",
   "name": "python3"
  },
  "language_info": {
   "codemirror_mode": {
    "name": "ipython",
    "version": 3
   },
   "file_extension": ".py",
   "mimetype": "text/x-python",
   "name": "python",
   "nbconvert_exporter": "python",
   "pygments_lexer": "ipython3",
   "version": "3.6.0"
  }
 },
 "nbformat": 4,
 "nbformat_minor": 1
}
