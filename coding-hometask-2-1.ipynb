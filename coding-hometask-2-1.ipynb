{
 "cells": [
  {
   "cell_type": "markdown",
   "metadata": {},
   "source": [
    "# Задание по курсу «Дискретная оптимизация», МФТИ, весна 2017"
   ]
  },
  {
   "cell_type": "markdown",
   "metadata": {},
   "source": [
    "## Задача 2-1. Применяем простейший локальный поиск.\n",
    "\n",
    "В этой задаче Вам предлагается попробовать стандартную технику локального поиска (local search) в применении к задаче о сбалансированном разбиении графа. Мы будем рассматривать безвесовый вариант задачи с параметром балансировки $\\alpha=\\frac{1}{2}$:\n",
    "\n",
    "**Даны:**\n",
    "* $G=(V,E)$ — граф без весов на рёбрах\n",
    "\n",
    "**Найти:**\n",
    "* Разбиение $V=V'\\sqcup V''$, такое, что $V'=\\lfloor |V|/2 \\rfloor$ и число рёбер между $V'$ и $V''$ минимально возможное.\n",
    "\n",
    "Сделайте следующее:\n",
    "* [Скачайте](http://mat.gsia.cmu.edu/COLOR/instances.html#XXMYC) файлы mycielX.col  (`for X in range(1,8)`).  (Если интересно, откуда такие графы берутся и чем интересны, см. конструкцию Зыкова—Мыцельского [здесь](https://docs.com/dainiak/3327).)\n",
    "* Для каждого из графов найдите локальным поиском локально минимальное (по количеству рёбер между частями) разбиение вершин графа на две части, мощности которых отличаются не более чем на единицу. \n",
    "* Ваша функция `basic_local_search` должна принимать на вход граф в формате, предоставляемом функцией `read_col_file`, и возвращать найденное локально минимальное разбиение просто как множество либо список вершин, лежащих в одной любой из двух компонент разбиения."
   ]
  },
  {
   "cell_type": "code",
   "execution_count": 128,
   "metadata": {
    "collapsed": true
   },
   "outputs": [],
   "source": [
    "def read_col_file(filename):\n",
    "    with open(filename, 'r') as file:\n",
    "        vertices, edges = set(), set()\n",
    "        for line in file:\n",
    "            line = line.strip()\n",
    "            if line.startswith('p'):\n",
    "                vertices = set(range(1, int(line.split()[-2]) + 1))\n",
    "            elif line.startswith('e'):\n",
    "                edges.add(tuple(map(int, line.split()[-2:])))\n",
    "        return (vertices, edges)"
   ]
  },
  {
   "cell_type": "code",
   "execution_count": 129,
   "metadata": {
    "collapsed": false
   },
   "outputs": [],
   "source": [
    "import random\n",
    "from itertools import permutations\n",
    "from copy import copy"
   ]
  },
  {
   "cell_type": "code",
   "execution_count": 130,
   "metadata": {
    "collapsed": false
   },
   "outputs": [],
   "source": [
    "def count_edges(edges, cut):\n",
    "    ans = 0\n",
    "    for edge in edges:\n",
    "        if not(set(edge) <= cut[0] or set(edge) <= cut[1]):\n",
    "            ans += 1\n",
    "    return ans"
   ]
  },
  {
   "cell_type": "code",
   "execution_count": 131,
   "metadata": {
    "collapsed": true
   },
   "outputs": [],
   "source": [
    "def get_random_cut(vert):\n",
    "    part = set(random.sample(vert, len(vert) // 2))\n",
    "    cut = [part, vert - part]\n",
    "    return cut"
   ]
  },
  {
   "cell_type": "code",
   "execution_count": 132,
   "metadata": {
    "collapsed": false
   },
   "outputs": [],
   "source": [
    "def find_nearest(edges, cut, k):\n",
    "    test = copy(cut)\n",
    "    ans = copy(cut)\n",
    "    best_dist = count_edges(edges, cut)\n",
    "    for first in permutations(cut[0], k):\n",
    "        for second in permutations(cut[1], k):\n",
    "            pool_set = set(first) | set(second)\n",
    "            for i in permutations(pool_set, k):\n",
    "                left = set(i)\n",
    "                right = copy(pool_set) - left\n",
    "                test[0].union(left).difference(right)\n",
    "                test[1].union(right).difference(left)\n",
    "                dist = count_edges(edges, test)\n",
    "                if dist < best_dist:\n",
    "                    best_dist, ans = dist, copy(test)\n",
    "    return ans"
   ]
  },
  {
   "cell_type": "code",
   "execution_count": 133,
   "metadata": {
    "collapsed": true
   },
   "outputs": [],
   "source": [
    "def basic_local_search(graph):\n",
    "    vertices = graph[0]\n",
    "    edges = graph[1]\n",
    "    cut = get_random_cut(vertices)\n",
    "    current = count_edges(edges, cut)\n",
    "    while True:\n",
    "        cut = find_nearest(edges, cut, 1)\n",
    "        dist = count_edges(edges, cut)\n",
    "        if dist >= current:\n",
    "            break\n",
    "        else:\n",
    "            current = dist\n",
    "    return cut[0]"
   ]
  },
  {
   "cell_type": "code",
   "execution_count": 134,
   "metadata": {
    "collapsed": false
   },
   "outputs": [
    {
     "name": "stdout",
     "output_type": "stream",
     "text": [
      "{1, 3, 6, 8, 10}\n"
     ]
    }
   ],
   "source": [
    "print(basic_local_search(read_col_file(\"myciel3.col\")))"
   ]
  },
  {
   "cell_type": "code",
   "execution_count": 135,
   "metadata": {
    "collapsed": false
   },
   "outputs": [
    {
     "name": "stdout",
     "output_type": "stream",
     "text": [
      "{1, 2, 4, 5, 6, 10, 11, 13, 15, 17, 23}\n"
     ]
    }
   ],
   "source": [
    "print(basic_local_search(read_col_file(\"myciel4.col\")))"
   ]
  },
  {
   "cell_type": "code",
   "execution_count": 136,
   "metadata": {
    "collapsed": false
   },
   "outputs": [
    {
     "name": "stdout",
     "output_type": "stream",
     "text": [
      "{1, 2, 3, 4, 7, 10, 11, 13, 18, 19, 20, 21, 26, 28, 30, 31, 33, 34, 35, 39, 40, 41, 45}\n"
     ]
    }
   ],
   "source": [
    "print(basic_local_search(read_col_file(\"myciel5.col\")))"
   ]
  },
  {
   "cell_type": "code",
   "execution_count": 137,
   "metadata": {
    "collapsed": false
   },
   "outputs": [
    {
     "name": "stdout",
     "output_type": "stream",
     "text": [
      "{1, 5, 7, 8, 10, 12, 16, 19, 21, 22, 23, 24, 25, 30, 31, 32, 35, 36, 37, 39, 41, 42, 45, 49, 50, 51, 52, 53, 55, 58, 60, 61, 62, 63, 67, 68, 74, 76, 80, 81, 85, 86, 87, 89, 93, 94, 95}\n"
     ]
    }
   ],
   "source": [
    "print(basic_local_search(read_col_file(\"myciel6.col\")))"
   ]
  },
  {
   "cell_type": "code",
   "execution_count": 138,
   "metadata": {
    "collapsed": false
   },
   "outputs": [
    {
     "name": "stdout",
     "output_type": "stream",
     "text": [
      "{1, 2, 3, 7, 8, 11, 12, 13, 15, 18, 23, 24, 25, 26, 27, 30, 31, 34, 35, 37, 40, 41, 42, 43, 44, 46, 47, 48, 50, 53, 54, 56, 58, 60, 61, 63, 64, 67, 69, 71, 77, 78, 79, 80, 82, 83, 88, 89, 91, 92, 93, 94, 97, 98, 99, 105, 107, 108, 109, 110, 111, 112, 116, 121, 122, 124, 125, 129, 130, 131, 132, 133, 134, 138, 144, 145, 147, 148, 150, 152, 153, 155, 157, 158, 161, 162, 170, 174, 178, 179, 182, 185, 186, 188, 190}\n"
     ]
    }
   ],
   "source": [
    "print(basic_local_search(read_col_file(\"myciel7.col\")))"
   ]
  }
 ],
 "metadata": {
  "kernelspec": {
   "display_name": "Python 3",
   "language": "python",
   "name": "python3"
  },
  "language_info": {
   "codemirror_mode": {
    "name": "ipython",
    "version": 3
   },
   "file_extension": ".py",
   "mimetype": "text/x-python",
   "name": "python",
   "nbconvert_exporter": "python",
   "pygments_lexer": "ipython3",
   "version": "3.6.0"
  }
 },
 "nbformat": 4,
 "nbformat_minor": 2
}
